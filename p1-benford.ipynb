{
 "cells": [
  {
   "cell_type": "code",
   "execution_count": 15,
   "metadata": {
    "collapsed": true
   },
   "outputs": [],
   "source": [
    "%matplotlib inline\n",
    "import pandas as pd\n",
    "import matplotlib\n",
    "import seaborn as sns\n",
    "import matplotlib.pyplot as plt\n",
    "import numpy as np\n",
    "\n",
    "import math\n",
    "\n",
    "plt.style.use('ggplot')\n",
    "sns.set_context('notebook')\n",
    "sns.set_style('white')"
   ]
  },
  {
   "cell_type": "code",
   "execution_count": 16,
   "metadata": {},
   "outputs": [],
   "source": [
    "data = pd.read_table('assets/element_data.txt')"
   ]
  },
  {
   "cell_type": "code",
   "execution_count": 17,
   "metadata": {
    "scrolled": false
   },
   "outputs": [
    {
     "data": {
      "text/html": [
       "<div>\n",
       "<table border=\"1\" class=\"dataframe\">\n",
       "  <thead>\n",
       "    <tr style=\"text-align: right;\">\n",
       "      <th></th>\n",
       "      <th>number</th>\n",
       "      <th>symbol</th>\n",
       "      <th>name</th>\n",
       "      <th>shear</th>\n",
       "    </tr>\n",
       "  </thead>\n",
       "  <tbody>\n",
       "    <tr>\n",
       "      <th>0</th>\n",
       "      <td>3</td>\n",
       "      <td>Li</td>\n",
       "      <td>lithium</td>\n",
       "      <td>4.2</td>\n",
       "    </tr>\n",
       "    <tr>\n",
       "      <th>1</th>\n",
       "      <td>4</td>\n",
       "      <td>Be</td>\n",
       "      <td>beryllium</td>\n",
       "      <td>132.0</td>\n",
       "    </tr>\n",
       "    <tr>\n",
       "      <th>2</th>\n",
       "      <td>11</td>\n",
       "      <td>Na</td>\n",
       "      <td>sodium</td>\n",
       "      <td>3.3</td>\n",
       "    </tr>\n",
       "    <tr>\n",
       "      <th>3</th>\n",
       "      <td>12</td>\n",
       "      <td>Mg</td>\n",
       "      <td>magnesium</td>\n",
       "      <td>17.0</td>\n",
       "    </tr>\n",
       "    <tr>\n",
       "      <th>4</th>\n",
       "      <td>13</td>\n",
       "      <td>Al</td>\n",
       "      <td>aluminium</td>\n",
       "      <td>26.0</td>\n",
       "    </tr>\n",
       "  </tbody>\n",
       "</table>\n",
       "</div>"
      ],
      "text/plain": [
       "   number symbol       name  shear\n",
       "0       3     Li    lithium    4.2\n",
       "1       4     Be  beryllium  132.0\n",
       "2      11     Na     sodium    3.3\n",
       "3      12     Mg  magnesium   17.0\n",
       "4      13     Al  aluminium   26.0"
      ]
     },
     "execution_count": 17,
     "metadata": {},
     "output_type": "execute_result"
    }
   ],
   "source": [
    "data = data.drop(['WEL', 'CRC'], axis=1)\n",
    "data.rename(columns = {'use':'shear'}, inplace=True)\n",
    "\n",
    "# Remove text and whitespace\n",
    "data['shear'] = data['shear'].str.split().str[-1]\n",
    "\n",
    "# Convert to numeric values\n",
    "data['shear'] = pd.to_numeric(data['shear'])\n",
    "data.head()"
   ]
  },
  {
   "cell_type": "code",
   "execution_count": 18,
   "metadata": {
    "collapsed": true
   },
   "outputs": [],
   "source": [
    "def sturges(m):\n",
    "    n = 1\n",
    "    while True:\n",
    "        if 2**(n-1) > m:\n",
    "            return n-1\n",
    "        n += 1\n",
    "        \n",
    "def get_precision(n):\n",
    "    decimals = len(str(n).split('.')[-1])\n",
    "    return 1 / (10**decimals)\n",
    "\n",
    "def plot_histogram(data):\n",
    "    m = len(data)\n",
    "    n = sturges(m)\n",
    "    precision = data.apply(get_precision).min()\n",
    "    \n",
    "    data_range = data.max() - data.min()\n",
    "    category_length = data_range / n\n",
    "    \n",
    "    # Round up to precision if data is already there, else add precision\n",
    "    if category_length / precision % 1 != 0:\n",
    "        category_length = math.ceil(category_length / precision) * precision\n",
    "    else:\n",
    "        category_length += precision\n",
    "    \n",
    "    low_bound = data.min() - 0.5 * precision\n",
    "    upper_bound = low_bound + n*category_length\n",
    "\n",
    "    xticks = np.arange(low_bound, upper_bound+category_length, category_length)\n",
    "    \n",
    "    plt.figure(figsize=(10,6))\n",
    "    plt.hist(data, bins=n, range=(low_bound, upper_bound), alpha=0.8, histtype='bar', ec='black')\n",
    "    plt.xticks(xticks)\n",
    "    plt.grid(True)"
   ]
  },
  {
   "cell_type": "code",
   "execution_count": 28,
   "metadata": {},
   "outputs": [
    {
     "data": {
      "image/png": "[encoded data removed]",
      "text/plain": [
       "<matplotlib.figure.Figure at 0x118256b00>"
      ]
     },
     "metadata": {},
     "output_type": "display_data"
    }
   ],
   "source": [
    "plot_histogram(data['shear'])\n",
    "\n",
    "plt.xlabel('Shear Modulus (GPa))')\n",
    "plt.ylabel('Frequency')\n",
    "#plt.title('Shear Modulus of Solid Periodic Elements')\n",
    "\n",
    "plt.savefig('assets/elements_histogram.png', dpi=300, bbox_inches='tight')"
   ]
  },
  {
   "cell_type": "code",
   "execution_count": 20,
   "metadata": {
    "collapsed": true
   },
   "outputs": [],
   "source": [
    "# Shear Modulus in psi\n",
    "# 1 Gigapascal is 145038 psi\n",
    "\n",
    "data['shear_psi'] = data['shear'] * 145038"
   ]
  },
  {
   "cell_type": "code",
   "execution_count": 27,
   "metadata": {},
   "outputs": [
    {
     "data": {
      "image/png": "[encoded data removed]",
      "text/plain": [
       "<matplotlib.figure.Figure at 0x118425fd0>"
      ]
     },
     "metadata": {},
     "output_type": "display_data"
    }
   ],
   "source": [
    "plot_histogram(data['shear_psi'])\n",
    "\n",
    "plt.xlabel('Shear Modulus (psi)')\n",
    "plt.ylabel('Frequency')\n",
    "#plt.title('Shear Modulus of Solid Periodic Elements')\n",
    "plt.ticklabel_format(style='sci', axis='x', scilimits=(0,0))\n",
    "\n",
    "plt.savefig('assets/elements_histogram_psi.png', dpi=300, bbox_inches='tight')"
   ]
  },
  {
   "cell_type": "code",
   "execution_count": 22,
   "metadata": {
    "collapsed": true
   },
   "outputs": [],
   "source": [
    "data['leading'] = data['shear'].astype(str).str[0].astype(int)\n",
    "data['leading_psi'] = data['shear_psi'].astype(str).str[0].astype(int)"
   ]
  },
  {
   "cell_type": "code",
   "execution_count": 23,
   "metadata": {},
   "outputs": [
    {
     "data": {
      "image/png": "[encoded data removed]",
      "text/plain": [
       "<matplotlib.figure.Figure at 0x1182bdc18>"
      ]
     },
     "metadata": {},
     "output_type": "display_data"
    }
   ],
   "source": [
    "plt.figure(figsize=(10,6))\n",
    "plt.hist(data['leading'], bins=9, range=(0.5, 9.5), alpha=0.8, histtype='bar', ec='black')\n",
    "plt.xticks(range(1, 10))\n",
    "plt.grid(True)\n",
    "\n",
    "#plt.title('Leading Digits of Periodic Elements\\' Shear Modulus in GPa')\n",
    "plt.xlabel('Leading digit')\n",
    "plt.ylabel('Frequency')\n",
    "\n",
    "plt.savefig('assets/digits.png', dpi=300, bbox_inches='tight')"
   ]
  },
  {
   "cell_type": "code",
   "execution_count": 24,
   "metadata": {},
   "outputs": [
    {
     "data": {
      "image/png": "[encoded data removed]",
      "text/plain": [
       "<matplotlib.figure.Figure at 0x118425f60>"
      ]
     },
     "metadata": {},
     "output_type": "display_data"
    }
   ],
   "source": [
    "plt.figure(figsize=(10,6))\n",
    "plt.hist(data['leading_psi'], bins=9, range=(0.5, 9.5), alpha=0.8, histtype='bar', ec='black')\n",
    "plt.xticks(range(1, 10))\n",
    "plt.grid(True)\n",
    "\n",
    "#plt.title('Leading Digits of Periodic Elements\\' Shear Modulus in psi')\n",
    "plt.xlabel('Leading digit')\n",
    "plt.ylabel('Frequency')\n",
    "\n",
    "plt.savefig('assets/digits_psi.png', dpi=300, bbox_inches='tight')"
   ]
  },
  {
   "cell_type": "code",
   "execution_count": 25,
   "metadata": {},
   "outputs": [
    {
     "data": {
      "text/html": [
       "<div>\n",
       "<table border=\"1\" class=\"dataframe\">\n",
       "  <thead>\n",
       "    <tr style=\"text-align: right;\">\n",
       "      <th></th>\n",
       "      <th>number</th>\n",
       "      <th>symbol</th>\n",
       "      <th>name</th>\n",
       "      <th>shear</th>\n",
       "      <th>shear_psi</th>\n",
       "      <th>leading</th>\n",
       "      <th>leading_psi</th>\n",
       "    </tr>\n",
       "  </thead>\n",
       "  <tbody>\n",
       "    <tr>\n",
       "      <th>0</th>\n",
       "      <td>3</td>\n",
       "      <td>Li</td>\n",
       "      <td>lithium</td>\n",
       "      <td>4.2</td>\n",
       "      <td>609159.6</td>\n",
       "      <td>4</td>\n",
       "      <td>6</td>\n",
       "    </tr>\n",
       "    <tr>\n",
       "      <th>1</th>\n",
       "      <td>4</td>\n",
       "      <td>Be</td>\n",
       "      <td>beryllium</td>\n",
       "      <td>132.0</td>\n",
       "      <td>19145016.0</td>\n",
       "      <td>1</td>\n",
       "      <td>1</td>\n",
       "    </tr>\n",
       "    <tr>\n",
       "      <th>2</th>\n",
       "      <td>11</td>\n",
       "      <td>Na</td>\n",
       "      <td>sodium</td>\n",
       "      <td>3.3</td>\n",
       "      <td>478625.4</td>\n",
       "      <td>3</td>\n",
       "      <td>4</td>\n",
       "    </tr>\n",
       "    <tr>\n",
       "      <th>3</th>\n",
       "      <td>12</td>\n",
       "      <td>Mg</td>\n",
       "      <td>magnesium</td>\n",
       "      <td>17.0</td>\n",
       "      <td>2465646.0</td>\n",
       "      <td>1</td>\n",
       "      <td>2</td>\n",
       "    </tr>\n",
       "    <tr>\n",
       "      <th>4</th>\n",
       "      <td>13</td>\n",
       "      <td>Al</td>\n",
       "      <td>aluminium</td>\n",
       "      <td>26.0</td>\n",
       "      <td>3770988.0</td>\n",
       "      <td>2</td>\n",
       "      <td>3</td>\n",
       "    </tr>\n",
       "  </tbody>\n",
       "</table>\n",
       "</div>"
      ],
      "text/plain": [
       "   number symbol       name  shear   shear_psi  leading  leading_psi\n",
       "0       3     Li    lithium    4.2    609159.6        4            6\n",
       "1       4     Be  beryllium  132.0  19145016.0        1            1\n",
       "2      11     Na     sodium    3.3    478625.4        3            4\n",
       "3      12     Mg  magnesium   17.0   2465646.0        1            2\n",
       "4      13     Al  aluminium   26.0   3770988.0        2            3"
      ]
     },
     "execution_count": 25,
     "metadata": {},
     "output_type": "execute_result"
    }
   ],
   "source": [
    "data.head()"
   ]
  },
  {
   "cell_type": "code",
   "execution_count": 26,
   "metadata": {
    "collapsed": true
   },
   "outputs": [],
   "source": [
    "data.to_csv('assets/element_data.csv', index=False,\n",
    "            float_format='%.1f',\n",
    "            header=['Atomic Number',\n",
    "                    'Symbol',\n",
    "                    'Name',\n",
    "                    'Shear Modulus (GPa)',\n",
    "                    'Shear Modulus (psi)',\n",
    "                    'Leading Digit of GPa',\n",
    "                    'Leaidng Digit of psi'])"
   ]
  },
  {
   "cell_type": "code",
   "execution_count": null,
   "metadata": {
    "collapsed": true
   },
   "outputs": [],
   "source": []
  }
 ],
 "metadata": {
  "kernelspec": {
   "display_name": "Python 3",
   "language": "python",
   "name": "python3"
  },
  "language_info": {
   "codemirror_mode": {
    "name": "ipython",
    "version": 3
   },
   "file_extension": ".py",
   "mimetype": "text/x-python",
   "name": "python",
   "nbconvert_exporter": "python",
   "pygments_lexer": "ipython3",
   "version": "3.6.1"
  }
 },
 "nbformat": 4,
 "nbformat_minor": 2
}
